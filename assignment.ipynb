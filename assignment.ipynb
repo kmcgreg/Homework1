{
 "cells": [
  {
   "cell_type": "markdown",
   "metadata": {},
   "source": [
    "In this repository, you will find JSON representing a <i>subset</i> of the data for the <a href=\"http://modeldb.yale.edu\">ModelDB</a> repository of computational neuroscience models."
   ]
  },
  {
   "cell_type": "markdown",
   "metadata": {},
   "source": [
    "<h1>Getting started</h1>"
   ]
  },
  {
   "cell_type": "markdown",
   "metadata": {},
   "source": [
    "Begin by cloning this repository. Create a private repository on github and push your local copy to there.<br/><br/>Connect to MongoDB and create a database for this assignment."
   ]
  },
  {
   "cell_type": "code",
   "execution_count": 47,
   "metadata": {
    "collapsed": true
   },
   "outputs": [],
   "source": [
    "from pymongo import MongoClient\n",
    "client = MongoClient()\n",
    "client.drop_database('mydb')\n",
    "mydb = client['mydb']"
   ]
  },
  {
   "cell_type": "markdown",
   "metadata": {},
   "source": [
    "Using the <tt>json</tt> module and Python file operations, load the data from <tt>modelcollection.json</tt> and <tt>papercollection.json</tt> into Python."
   ]
  },
  {
   "cell_type": "code",
   "execution_count": 48,
   "metadata": {
    "collapsed": false
   },
   "outputs": [],
   "source": [
    "import json\n",
    "import requests\n",
    "\n",
    "with open ('modelcollection.json') as models:\n",
    "    models= json.load(models)\n",
    "with open ('papercollection.json') as papers:\n",
    "    papers= json.load(papers)"
   ]
  },
  {
   "cell_type": "markdown",
   "metadata": {},
   "source": [
    "Put the loaded data into two collections in your database. I recommend calling them <tt>models</tt> and <tt>papers</tt>."
   ]
  },
  {
   "cell_type": "code",
   "execution_count": 49,
   "metadata": {
    "collapsed": false
   },
   "outputs": [
    {
     "data": {
      "text/plain": [
       "<pymongo.results.InsertManyResult at 0x10920b4c8>"
      ]
     },
     "execution_count": 49,
     "metadata": {},
     "output_type": "execute_result"
    }
   ],
   "source": [
    "modelcollection = mydb.modelcollection\n",
    "modelcollection.insert_many(models)"
   ]
  },
  {
   "cell_type": "markdown",
   "metadata": {},
   "source": [
    "<h1>Explore the database</h1>"
   ]
  },
  {
   "cell_type": "markdown",
   "metadata": {},
   "source": [
    "Use MongoDB to answer the following questions. Run your code in the spaces provided."
   ]
  },
  {
   "cell_type": "markdown",
   "metadata": {},
   "source": [
    "<b>Q: How many models are there?</b>"
   ]
  },
  {
   "cell_type": "code",
   "execution_count": 50,
   "metadata": {
    "collapsed": false
   },
   "outputs": [
    {
     "data": {
      "text/plain": [
       "1114"
      ]
     },
     "execution_count": 50,
     "metadata": {},
     "output_type": "execute_result"
    }
   ],
   "source": [
    "modelcollection.count()"
   ]
  },
  {
   "cell_type": "markdown",
   "metadata": {},
   "source": [
    "<b>What are the field names (keys) for the model entry with <tt>_id</tt> = 87284?</b>"
   ]
  },
  {
   "cell_type": "code",
   "execution_count": 51,
   "metadata": {
    "collapsed": false
   },
   "outputs": [
    {
     "data": {
      "text/plain": [
       "{'_id': 87284,\n",
       " 'brainregions': [],\n",
       " 'celltypes': ['Hippocampus CA1 pyramidal cell'],\n",
       " 'channels': ['I Na,t',\n",
       "  'I L high threshold',\n",
       "  'I N',\n",
       "  'I T low threshold',\n",
       "  'I A',\n",
       "  'I K',\n",
       "  'I h'],\n",
       " 'genes': [],\n",
       " 'modelconcepts': ['Dendritic Action Potentials',\n",
       "  'Active Dendrites',\n",
       "  'Detailed Neuronal Models',\n",
       "  'Pathophysiology',\n",
       "  'Aging/Alzheimer`s'],\n",
       " 'modeltype': ['Neuron or other electrically excitable cell'],\n",
       " 'receptors': [],\n",
       " 'references': [126976],\n",
       " 'simenvironment': ['NEURON'],\n",
       " 'text': 'The model simulations provide evidence oblique dendrites in CA1 pyramidal neurons are susceptible to hyper-excitability by amyloid beta block of the transient K+ channel, IA.  See paper for details.',\n",
       " 'title': 'Amyloid beta (IA block) effects on a model CA1 pyramidal cell (Morse et al. 2010)',\n",
       " 'transmitters': []}"
      ]
     },
     "execution_count": 51,
     "metadata": {},
     "output_type": "execute_result"
    }
   ],
   "source": [
    "modelcollection.find_one({'_id': 87284})"
   ]
  },
  {
   "cell_type": "markdown",
   "metadata": {},
   "source": [
    "Note: this data is not completely denormalized: references in both collections are given in terms of the <tt>_id</tt> field of the paper collection.<br/><br/><b>How many distinct cell types are in the models collection?</b>"
   ]
  },
  {
   "cell_type": "code",
   "execution_count": 72,
   "metadata": {
    "collapsed": false
   },
   "outputs": [
    {
     "data": {
      "text/plain": [
       "188"
      ]
     },
     "execution_count": 72,
     "metadata": {},
     "output_type": "execute_result"
    }
   ],
   "source": [
    "len(modelcollection.find().distinct('celltypes'))\n"
   ]
  },
  {
   "cell_type": "markdown",
   "metadata": {},
   "source": [
    "<b>Find the list of model ids for models that contain a Hippocampus CA3 pyramidal cell.</b>"
   ]
  },
  {
   "cell_type": "code",
   "execution_count": 115,
   "metadata": {
    "collapsed": false
   },
   "outputs": [
    {
     "name": "stdout",
     "output_type": "stream",
     "text": [
      "101629\n",
      "114337\n",
      "118098\n",
      "120907\n",
      "126814\n",
      "129067\n",
      "135902\n",
      "135903\n",
      "137259\n",
      "137505\n",
      "138421\n",
      "139421\n",
      "142104\n",
      "143148\n",
      "146499\n",
      "147756\n",
      "147867\n",
      "148035\n",
      "150288\n",
      "151282\n",
      "168314\n",
      "168874\n",
      "181967\n",
      "184139\n",
      "185512\n",
      "186768\n",
      "189088\n",
      "20007\n",
      "3263\n",
      "35358\n",
      "7907\n",
      "84606\n",
      "87216\n",
      "87762\n",
      "98003\n"
     ]
    }
   ],
   "source": [
    "for item in (modelcollection.find({'celltypes':'Hippocampus CA3 pyramidal cell'})):print (item ['_id'])"
   ]
  },
  {
   "cell_type": "markdown",
   "metadata": {},
   "source": [
    "<b>What other cells appear in models with a Hippocampus CA3 pyramidal cell? Sort them in alphabetical order. How many such cells are there?</b>"
   ]
  },
  {
   "cell_type": "code",
   "execution_count": 148,
   "metadata": {
    "collapsed": false
   },
   "outputs": [
    {
     "name": "stdout",
     "output_type": "stream",
     "text": [
      "['Hippocampus CA3 pyramidal cell']\n",
      "['Hippocampus CA3 pyramidal cell']\n",
      "['Hippocampus CA3 pyramidal cell']\n",
      "['Hippocampus CA3 pyramidal cell']\n",
      "['Hippocampus CA3 pyramidal cell']\n",
      "['Hippocampus CA1 pyramidal cell', 'Hippocampus CA3 pyramidal cell', 'Entorhinal cortex stellate cell']\n",
      "['Hippocampus CA1 pyramidal cell', 'Hippocampus CA3 pyramidal cell', 'Hippocampus CA1 interneuron oriens alveus', 'Hippocampus CA1 basket cell']\n",
      "['Hippocampus CA1 pyramidal cell', 'Hippocampus CA3 pyramidal cell', 'Hippocampus CA1 interneuron oriens alveus', 'Hippocampus CA1 basket cell']\n",
      "['Hippocampus CA3 pyramidal cell']\n",
      "['Hippocampus CA1 pyramidal cell', 'Hippocampus CA3 pyramidal cell']\n",
      "['Hippocampus CA1 pyramidal cell', 'Hippocampus CA3 pyramidal cell', 'Hippocampus CA1 interneuron oriens alveus', 'Neocortex fast spiking (FS) interneuron']\n",
      "['Hippocampus CA3 pyramidal cell', 'Hippocampus CA3 basket cell', 'Hippocampus CA3 stratum oriens lacunosum-moleculare interneuron']\n",
      "['Hippocampus CA3 pyramidal cell', 'Hippocampus CA3 basket cell', 'Hippocampus CA3 stratum oriens lacunosum-moleculare interneuron', 'Hippocampus septum medial GABAergic neuron']\n",
      "['Hippocampus CA1 pyramidal cell', 'Hippocampus CA3 pyramidal cell', 'Neocortex fast spiking (FS) interneuron', 'Neocortex spiking regular (RS) neuron']\n",
      "['Hippocampus CA3 pyramidal cell', 'Abstract integrate-and-fire adaptive exponential (AdEx) neuron']\n",
      "['Hippocampus CA3 pyramidal cell']\n",
      "['Hippocampus CA3 pyramidal cell']\n",
      "['Hippocampus CA1 pyramidal cell', 'Hippocampus CA3 pyramidal cell', 'Entorhinal cortex stellate cell']\n",
      "['Hippocampus CA1 pyramidal cell', 'Hippocampus CA3 pyramidal cell', 'Hodgkin-Huxley neuron']\n",
      "['Hippocampus CA3 pyramidal cell', 'Hippocampus CA3 basket cell', 'Hippocampus CA3 stratum oriens lacunosum-moleculare interneuron']\n",
      "['Dentate gyrus granule cell', 'Hippocampus CA3 pyramidal cell', 'Hippocampus CA3 basket cell', 'Hippocampus CA3 stratum oriens lacunosum-moleculare interneuron', 'Abstract Izhikevich neuron']\n",
      "['Hippocampus CA1 pyramidal cell', 'Hippocampus CA3 pyramidal cell', 'Neocortex layer 5-6 pyramidal cell', 'Neocortex layer 2-3 pyramidal cell']\n",
      "['Dentate gyrus granule cell', 'Hippocampus CA1 pyramidal cell', 'Hippocampus CA3 pyramidal cell', 'Hippocampus CA3 basket cell', 'Dentate gyrus mossy cell', 'Dentate gyrus basket cell', 'Dentate gyrus hilar cell', 'Hippocampus CA1 basket cell', 'Hippocampus CA3 stratum oriens lacunosum-moleculare interneuron', 'Hippocampus CA1 bistratified cell', 'Hippocampus CA1 axo-axonic cell', 'Hippocampus CA3 axo-axonic cells']\n",
      "['Hippocampus CA3 pyramidal cell']\n",
      "['Hippocampus CA1 pyramidal cell', 'Hippocampus CA3 pyramidal cell', 'Neocortex layer 5-6 pyramidal cell', 'Neocortex layer 2-3 pyramidal cell', 'Neocortical pyramidal cortical-thalamic cell', 'Neocortex layer 4 pyramidal cell']\n",
      "['Hippocampus CA3 pyramidal cell', 'Hippocampus CA3 basket cell', 'Hippocampus CA3 stratum oriens lacunosum-moleculare interneuron']\n",
      "['Hippocampus CA1 pyramidal cell', 'Hippocampus CA3 pyramidal cell', 'Pinsky-Rinzel CA1/3 pyramidal cell ']\n",
      "['Hippocampus CA3 pyramidal cell']\n",
      "['Hippocampus CA3 pyramidal cell']\n",
      "['Hippocampus CA3 pyramidal cell']\n",
      "['Hippocampus CA1 pyramidal cell', 'Hippocampus CA3 pyramidal cell', 'Neocortex layer 5-6 pyramidal cell', 'Cerebellum purkinje cell']\n",
      "['Hippocampus CA3 pyramidal cell']\n",
      "['Hippocampus CA1 pyramidal cell', 'Hippocampus CA3 pyramidal cell']\n",
      "['Hippocampus CA3 pyramidal cell']\n",
      "['Hippocampus CA3 pyramidal cell']\n"
     ]
    }
   ],
   "source": [
    "for item in (modelcollection.find({'celltypes':'Hippocampus CA3 pyramidal cell'})):\n",
    "    print (item['celltypes'])"
   ]
  },
  {
   "cell_type": "markdown",
   "metadata": {},
   "source": [
    "<h1>Use aggregation</h1>"
   ]
  },
  {
   "cell_type": "markdown",
   "metadata": {},
   "source": [
    "How many models are there for each cell type? Display the results in a formatted table, sorted from most commonly appearing cell type to least commonly appearing."
   ]
  },
  {
   "cell_type": "code",
   "execution_count": 152,
   "metadata": {
    "collapsed": false
   },
   "outputs": [
    {
     "data": {
      "text/plain": [
       "[{'_id': 'Neocortex layer 5-6 pyramidal cell', 'count': 108},\n",
       " {'_id': 'Hippocampus CA1 pyramidal cell', 'count': 104},\n",
       " {'_id': 'Neocortex layer 2-3 pyramidal cell', 'count': 60},\n",
       " {'_id': 'Hippocampus CA3 pyramidal cell', 'count': 35},\n",
       " {'_id': 'Olfactory bulb main mitral cell', 'count': 30},\n",
       " {'_id': 'Neocortex fast spiking (FS) interneuron', 'count': 30},\n",
       " {'_id': 'Hodgkin-Huxley neuron', 'count': 29},\n",
       " {'_id': 'Thalamus geniculate nucleus (lateral) principal neuron',\n",
       "  'count': 26},\n",
       " {'_id': 'Abstract integrate-and-fire leaky neuron', 'count': 25},\n",
       " {'_id': 'Dentate gyrus granule cell', 'count': 24},\n",
       " {'_id': 'Cerebellum purkinje cell', 'count': 24},\n",
       " {'_id': 'Neocortex spiking regular (RS) neuron', 'count': 22},\n",
       " {'_id': 'Neostriatum spiny direct pathway neuron', 'count': 22},\n",
       " {'_id': 'Neocortex spiking low threshold (LTS) neuron', 'count': 21},\n",
       " {'_id': 'Neocortex layer 4 pyramidal cell', 'count': 20},\n",
       " {'_id': 'Globus pallidus neuron', 'count': 19},\n",
       " {'_id': 'Olfactory bulb main interneuron granule MC cell', 'count': 19},\n",
       " {'_id': 'Myelinated neuron', 'count': 18},\n",
       " {'_id': 'Spinal cord motor neuron', 'count': 17},\n",
       " {'_id': 'Neocortex interneuron basket cell', 'count': 16},\n",
       " {'_id': 'Auditory nerve', 'count': 15},\n",
       " {'_id': 'Squid axon', 'count': 15},\n",
       " {'_id': 'Heart cell', 'count': 14},\n",
       " {'_id': 'Neocortex layer 5 interneuron', 'count': 14},\n",
       " {'_id': 'Retina ganglion cell', 'count': 14},\n",
       " {'_id': 'Thalamus reticular nucleus cell', 'count': 14},\n",
       " {'_id': 'Subthalamus nucleus projection neuron', 'count': 13},\n",
       " {'_id': 'Cardiac ventricular cell', 'count': 13},\n",
       " {'_id': 'Cerebellum interneuron granule cell', 'count': 13},\n",
       " {'_id': 'Dentate gyrus basket cell', 'count': 12},\n",
       " {'_id': 'Neocortex spiny stellate cell', 'count': 12},\n",
       " {'_id': 'Hippocampus CA1 basket cell', 'count': 11},\n",
       " {'_id': 'Abstract integrate-and-fire adaptive exponential (AdEx) neuron',\n",
       "  'count': 11},\n",
       " {'_id': 'Abstract Morris-Lecar neuron', 'count': 11},\n",
       " {'_id': 'Abstract Wang-Buzsaki neuron', 'count': 10},\n",
       " {'_id': 'Olfactory receptor neuron', 'count': 9},\n",
       " {'_id': 'Abstract Izhikevich neuron', 'count': 9},\n",
       " {'_id': 'Neostriatum fast spiking interneuron', 'count': 9},\n",
       " {'_id': 'Hippocampus CA1 interneuron oriens alveus', 'count': 9},\n",
       " {'_id': 'Substantia nigra pars compacta dopaminergic cell', 'count': 9},\n",
       " {'_id': 'Pituitary cell', 'count': 8},\n",
       " {'_id': 'Hippocampus CA3 stratum oriens lacunosum-moleculare interneuron',\n",
       "  'count': 8},\n",
       " {'_id': 'Cerebellum golgi cell', 'count': 8},\n",
       " {'_id': 'Dentate gyrus mossy cell', 'count': 8},\n",
       " {'_id': 'Dentate gyrus hilar cell', 'count': 8},\n",
       " {'_id': 'Neocortex layer 2-3 interneuron', 'count': 7},\n",
       " {'_id': 'Entorhinal cortex stellate cell', 'count': 7},\n",
       " {'_id': 'Cerebellum deep nucleus neuron', 'count': 7},\n",
       " {'_id': 'Cochlea hair cell (auditory)', 'count': 7},\n",
       " {'_id': 'Dorsal root ganglion (DRG) cell', 'count': 7},\n",
       " {'_id': 'Olfactory bulb main interneuron periglomerular cell', 'count': 7},\n",
       " {'_id': 'Abstract single compartment conductance based cell', 'count': 7},\n",
       " {'_id': 'Hippocampus CA3 basket cell', 'count': 6},\n",
       " {'_id': 'Neuroblastoma', 'count': 6},\n",
       " {'_id': 'Retina photoreceptor cone cell', 'count': 6},\n",
       " {'_id': 'Neocortex layer 6a interneuron', 'count': 6},\n",
       " {'_id': 'Aplysia sensory neuron', 'count': 6},\n",
       " {'_id': 'Neostriatum spiny indirect pathway neuron', 'count': 6},\n",
       " {'_id': 'Aplysia motor neuron', 'count': 4},\n",
       " {'_id': 'Neostriatum spiny neuron', 'count': 4},\n",
       " {'_id': 'Olfactory bulb main interneuron granule TC cell', 'count': 4},\n",
       " {'_id': 'Thalamus lateral geniculate nucleus interneuron', 'count': 4},\n",
       " {'_id': 'Astrocyte', 'count': 4},\n",
       " {'_id': 'CN stellate cell', 'count': 4},\n",
       " {'_id': 'Retina bipolar cell', 'count': 4},\n",
       " {'_id': 'Cardiac atrial cell', 'count': 4},\n",
       " {'_id': 'ELL pyramidal cell', 'count': 4},\n",
       " {'_id': 'Medial Nucleus of the Trapezoid Body (MNTB) neuron', 'count': 4},\n",
       " {'_id': 'Leech heart interneuron', 'count': 4},\n",
       " {'_id': 'Medial Superior Olive (MSO) cell', 'count': 4},\n",
       " {'_id': 'Wide dynamic range neuron', 'count': 4},\n",
       " {'_id': 'Suprachiasmatic nucleus (SCN) neuron', 'count': 3},\n",
       " {'_id': 'Vestibular neuron', 'count': 3},\n",
       " {'_id': 'Cochlear nucleus bushy cell', 'count': 3},\n",
       " {'_id': 'Respiratory column neuron', 'count': 3},\n",
       " {'_id': 'NG108-15 neuronal cell', 'count': 3},\n",
       " {'_id': 'Hermissenda photoreceptor Type B', 'count': 3},\n",
       " {'_id': 'Locust Lobula Giant Movement Detector (LGMD) neuron', 'count': 3},\n",
       " {'_id': 'Nucleus accumbens spiny projection neuron', 'count': 3},\n",
       " {'_id': 'Skeletal muscle cell', 'count': 3},\n",
       " {'_id': 'Leech S cell', 'count': 3},\n",
       " {'_id': 'Tritonia cerebral cell', 'count': 2},\n",
       " {'_id': 'Aplysia interneuron', 'count': 2},\n",
       " {'_id': 'Teleost thalamic neuron', 'count': 2},\n",
       " {'_id': 'Cochlear ganglion cell Type II', 'count': 2},\n",
       " {'_id': 'Brainstem neuron', 'count': 2},\n",
       " {'_id': 'Neocortex layer 4 interneuron', 'count': 2},\n",
       " {'_id': 'Hippocampus CA1 PV+ fast-firing interneuron', 'count': 2},\n",
       " {'_id': 'Macrophage', 'count': 2},\n",
       " {'_id': 'Microglia', 'count': 2},\n",
       " {'_id': 'Hippocampus CA1 bistratified cell', 'count': 2},\n",
       " {'_id': 'Ventral cochlear nucleus T stellate (chopper) neuron', 'count': 2},\n",
       " {'_id': 'Cochlear nucleus pyramidal (fusiform) cell', 'count': 2},\n",
       " {'_id': 'Olfactory cortex anterior pyramidal neuron', 'count': 2},\n",
       " {'_id': 'Aplysia R15 bursting neuron', 'count': 2},\n",
       " {'_id': 'Stomatogastric ganglion pyloric neuron', 'count': 2},\n",
       " {'_id': 'Stomatogastric ganglion pyloric dilator neuron', 'count': 2},\n",
       " {'_id': 'Neocortex layer 4 neuron', 'count': 2},\n",
       " {'_id': 'Crab Stomatogastric Ganglion (STG) Lateral Pyloric (LP) cell',\n",
       "  'count': 2},\n",
       " {'_id': 'Vibrissa motoneuron', 'count': 2},\n",
       " {'_id': 'Honeybee kenyon cell', 'count': 2},\n",
       " {'_id': 'Spinal cord motor neuron slow twitch', 'count': 2},\n",
       " {'_id': 'Tritonia swim interneuron dorsal', 'count': 2},\n",
       " {'_id': 'Crab Stomatogastric Ganglion (STG) Lateral Gastric (LG) cell',\n",
       "  'count': 2},\n",
       " {'_id': 'Leech T segmental sensory neuron', 'count': 2},\n",
       " {'_id': 'Electric fish midbrain torus semicircularis neuron', 'count': 2},\n",
       " {'_id': 'Spinal lamprey neuron', 'count': 2},\n",
       " {'_id': 'Dentate gyrus MOPP cell', 'count': 2},\n",
       " {'_id': 'GnRH neuron', 'count': 2},\n",
       " {'_id': 'Neocortex bitufted interneuron', 'count': 2},\n",
       " {'_id': 'Tritonia swim interneuron ventral', 'count': 2},\n",
       " {'_id': 'Hippocampus CA1 axo-axonic cell', 'count': 2},\n",
       " {'_id': 'Abstract integrate-and-fire fractional leaky neuron', 'count': 2},\n",
       " {'_id': 'Neostriatum interneuron cholinergic cell', 'count': 1},\n",
       " {'_id': 'Turtle dorsal cortex subpial cell', 'count': 1},\n",
       " {'_id': 'Turtle dorsal cortex horizontal cell', 'count': 1},\n",
       " {'_id': 'Turtle dorsal cortex medial pyramidal cell', 'count': 1},\n",
       " {'_id': 'Intramuscular interstitial cell of Cajal (ICCIM)', 'count': 1},\n",
       " {'_id': 'Hermissenda photoreceptor Type A', 'count': 1},\n",
       " {'_id': 'Aplysia feeding CPG neurons', 'count': 1},\n",
       " {'_id': 'Spinal cord lamina I neuron', 'count': 1},\n",
       " {'_id': 'Crab Stomatogastric Ganglion (STG) interneuron 1 (Int1)',\n",
       "  'count': 1},\n",
       " {'_id': 'Leech pressure (P) mechanosensory neuron', 'count': 1},\n",
       " {'_id': 'Aplysia cultured neuron', 'count': 1},\n",
       " {'_id': 'B lymphocyte', 'count': 1},\n",
       " {'_id': 'Neocortical pyramidal cortical-thalamic cell', 'count': 1},\n",
       " {'_id': 'Olfactory bulb (accessory) mitral cell', 'count': 1},\n",
       " {'_id': 'Hippocampus CA3 axo-axonic cells', 'count': 1},\n",
       " {'_id': 'Fly medulla neuron', 'count': 1},\n",
       " {'_id': 'Fly lamina neuron', 'count': 1},\n",
       " {'_id': 'Olfactory bulb main tufted middle cell', 'count': 1},\n",
       " {'_id': 'Gastrointestinal tract intrinsic sensory neuron', 'count': 1},\n",
       " {'_id': 'Fly vertical system tangential cell', 'count': 1},\n",
       " {'_id': 'Crab Stomatogastric Ganglion (STG) Modulatory commissural neuron 1 (MCN1)',\n",
       "  'count': 1},\n",
       " {'_id': 'Leech heart motor neuron (HE)', 'count': 1},\n",
       " {'_id': 'Grueneberg ganglion neuron', 'count': 1},\n",
       " {'_id': 'Nucleus laminaris neuron', 'count': 1},\n",
       " {'_id': 'Neocortex superficial neurogliaform interneuron', 'count': 1},\n",
       " {'_id': 'Neocortex deep neurogliaform interneuron', 'count': 1},\n",
       " {'_id': 'Crayfish motor neuron', 'count': 1},\n",
       " {'_id': 'Substantia nigra pars reticulata principal cell', 'count': 1},\n",
       " {'_id': 'Neocortical pyramidal tract cortical-spinal cell', 'count': 1},\n",
       " {'_id': 'Olfactory cortex anterior interneuron superficial layer',\n",
       "  'count': 1},\n",
       " {'_id': 'Dorsal Root Ganglion cell: cold sensing', 'count': 1},\n",
       " {'_id': 'Locus Coeruleus neuron', 'count': 1},\n",
       " {'_id': 'Inferior olive neuron', 'count': 1},\n",
       " {'_id': 'Lateral Superior Olive (LSO) cell', 'count': 1},\n",
       " {'_id': 'Spinal cord renshaw cell', 'count': 1},\n",
       " {'_id': 'Olfactory bulb main juxtaglomerular cell', 'count': 1},\n",
       " {'_id': 'Crayfish identified nonspiking interneuron', 'count': 1},\n",
       " {'_id': 'Hippocampus septum medial GABAergic neuron', 'count': 1},\n",
       " {'_id': 'Vibrissa motor plant', 'count': 1},\n",
       " {'_id': 'C elegans uterine-vulval cell (uv1)', 'count': 1},\n",
       " {'_id': 'Cochlear nucleus octopus cell', 'count': 1},\n",
       " {'_id': 'Myenteric interstitial cell of Cajal (ICCMY)', 'count': 1},\n",
       " {'_id': 'Hippocampus CA1 stratum radiatum interneuron', 'count': 1},\n",
       " {'_id': 'Neocortex spiking irregular interneuron', 'count': 1},\n",
       " {'_id': 'Thalamus DLM projection neuron', 'count': 1},\n",
       " {'_id': 'C elegans Hermaphrodite-Specific neuron (HSN)', 'count': 1},\n",
       " {'_id': 'Spinal cord sympathetic preganglionic neuron', 'count': 1},\n",
       " {'_id': 'Pinsky-Rinzel CA1/3 pyramidal cell ', 'count': 1},\n",
       " {'_id': 'Neocortical pyramidal intra-telencephalic cell', 'count': 1},\n",
       " {'_id': 'Hippocampus CA3 stratum radiatum lacunosum-moleculare interneuron',\n",
       "  'count': 1},\n",
       " {'_id': 'Hippocampus CA1 stratum oriens lacunosum-moleculare interneuron ',\n",
       "  'count': 1},\n",
       " {'_id': 'Helix pacemaker bursting neuron (RPa1)', 'count': 1},\n",
       " {'_id': 'Arteriolar network', 'count': 1},\n",
       " {'_id': 'Leech Retzius neuron', 'count': 1},\n",
       " {'_id': 'Drosophila antennal lobe DM1 projection neuron', 'count': 1},\n",
       " {'_id': 'C elegans VC motor neuron', 'count': 1},\n",
       " {'_id': 'Stick insect nonspiking interneuron', 'count': 1},\n",
       " {'_id': 'Turtle dorsal cortex lateral pyramidal cell', 'count': 1},\n",
       " {'_id': 'Leech C interneuron', 'count': 1},\n",
       " {'_id': 'Spinal cord Ia interneuron', 'count': 1},\n",
       " {'_id': 'Spinal cord motor neuron fast fatiguing', 'count': 1},\n",
       " {'_id': 'Fly lobular plate vertical system cell', 'count': 1},\n",
       " {'_id': 'Aplysia B31/B32 neuron', 'count': 1},\n",
       " {'_id': 'Turtle dorsal cortex stellate cell', 'count': 1},\n",
       " {'_id': 'Abstract Hindmarsh-Rose neuron', 'count': 1},\n",
       " {'_id': 'Depressor scutorum rostralis muscle cell', 'count': 1},\n",
       " {'_id': 'Superior paraolivary nucleus neuron', 'count': 1},\n",
       " {'_id': 'Abstract theta neuron', 'count': 1},\n",
       " {'_id': 'Spinal cord Ib interneuron', 'count': 1},\n",
       " {'_id': 'Spinal cord motor neuron fatigue resistant', 'count': 1},\n",
       " {'_id': 'Hippocampus dissociated neuron', 'count': 1},\n",
       " {'_id': 'Olfactory cortex anterior interneuron deep layer', 'count': 1},\n",
       " {'_id': 'Electric fish P- and T-type primary afferent fibers', 'count': 1},\n",
       " {'_id': 'Olfactory bulb short axon cell', 'count': 1},\n",
       " {'_id': 'Neocortex dissociated cultured nerve cell', 'count': 1}]"
      ]
     },
     "execution_count": 152,
     "metadata": {},
     "output_type": "execute_result"
    }
   ],
   "source": [
    "list(modelcollection.aggregate([\n",
    "            {\n",
    "               '$unwind': '$celltypes' \n",
    "            }, \n",
    "            {\n",
    "                '$group': {\n",
    "                    '_id': '$celltypes',\n",
    "                    'count': {'$sum':1}\n",
    "                }\n",
    "            },\n",
    "            {\n",
    "                '$sort': {'count': -1}\n",
    "            }\n",
    "            \n",
    "        ]))"
   ]
  },
  {
   "cell_type": "markdown",
   "metadata": {},
   "source": [
    "Find the model titles (not paper titles) for models that (1) involve a Hippocampus CA3 pyramidal cell, and (2) have an associated reference where one of the authors is \"Migliore M\"."
   ]
  },
  {
   "cell_type": "code",
   "execution_count": 153,
   "metadata": {
    "collapsed": false
   },
   "outputs": [
    {
     "ename": "OperationFailure",
     "evalue": "unknown top level operator: $authors",
     "output_type": "error",
     "traceback": [
      "\u001b[0;31m---------------------------------------------------------------------------\u001b[0m",
      "\u001b[0;31mOperationFailure\u001b[0m                          Traceback (most recent call last)",
      "\u001b[0;32m<ipython-input-153-9efe15c392df>\u001b[0m in \u001b[0;36m<module>\u001b[0;34m()\u001b[0m\n\u001b[1;32m      4\u001b[0m                 {\n\u001b[1;32m      5\u001b[0m                     \u001b[0;34m'$celltypes'\u001b[0m\u001b[0;34m:\u001b[0m \u001b[0;34m'Hippocampus CA3 pyramidal cell'\u001b[0m\u001b[0;34m,\u001b[0m\u001b[0;34m\u001b[0m\u001b[0m\n\u001b[0;32m----> 6\u001b[0;31m                     \u001b[0;34m'$authors'\u001b[0m\u001b[0;34m:\u001b[0m \u001b[0;34m'Migliore M'\u001b[0m\u001b[0;34m\u001b[0m\u001b[0m\n\u001b[0m\u001b[1;32m      7\u001b[0m                 }\n\u001b[1;32m      8\u001b[0m \u001b[0;34m\u001b[0m\u001b[0m\n",
      "\u001b[0;32m/Users/kylemcgregor/anaconda/lib/python3.5/site-packages/pymongo/collection.py\u001b[0m in \u001b[0;36maggregate\u001b[0;34m(self, pipeline, **kwargs)\u001b[0m\n\u001b[1;32m   1676\u001b[0m                 \u001b[0;32melse\u001b[0m\u001b[0;34m:\u001b[0m\u001b[0;34m\u001b[0m\u001b[0m\n\u001b[1;32m   1677\u001b[0m                     result = self._command(sock_info, cmd, slave_ok,\n\u001b[0;32m-> 1678\u001b[0;31m                                            read_concern=self.read_concern)\n\u001b[0m\u001b[1;32m   1679\u001b[0m             \u001b[0;32melse\u001b[0m\u001b[0;34m:\u001b[0m\u001b[0;34m\u001b[0m\u001b[0m\n\u001b[1;32m   1680\u001b[0m                 \u001b[0mresult\u001b[0m \u001b[0;34m=\u001b[0m \u001b[0mself\u001b[0m\u001b[0;34m.\u001b[0m\u001b[0m_command\u001b[0m\u001b[0;34m(\u001b[0m\u001b[0msock_info\u001b[0m\u001b[0;34m,\u001b[0m \u001b[0mcmd\u001b[0m\u001b[0;34m,\u001b[0m \u001b[0mslave_ok\u001b[0m\u001b[0;34m)\u001b[0m\u001b[0;34m\u001b[0m\u001b[0m\n",
      "\u001b[0;32m/Users/kylemcgregor/anaconda/lib/python3.5/site-packages/pymongo/collection.py\u001b[0m in \u001b[0;36m_command\u001b[0;34m(self, sock_info, command, slave_ok, read_preference, codec_options, check, allowable_errors, read_concern)\u001b[0m\n\u001b[1;32m    206\u001b[0m                                  \u001b[0mcheck\u001b[0m\u001b[0;34m,\u001b[0m\u001b[0;34m\u001b[0m\u001b[0m\n\u001b[1;32m    207\u001b[0m                                  \u001b[0mallowable_errors\u001b[0m\u001b[0;34m,\u001b[0m\u001b[0;34m\u001b[0m\u001b[0m\n\u001b[0;32m--> 208\u001b[0;31m                                  read_concern=read_concern)\n\u001b[0m\u001b[1;32m    209\u001b[0m \u001b[0;34m\u001b[0m\u001b[0m\n\u001b[1;32m    210\u001b[0m     \u001b[0;32mdef\u001b[0m \u001b[0m__create\u001b[0m\u001b[0;34m(\u001b[0m\u001b[0mself\u001b[0m\u001b[0;34m,\u001b[0m \u001b[0moptions\u001b[0m\u001b[0;34m)\u001b[0m\u001b[0;34m:\u001b[0m\u001b[0;34m\u001b[0m\u001b[0m\n",
      "\u001b[0;32m/Users/kylemcgregor/anaconda/lib/python3.5/site-packages/pymongo/pool.py\u001b[0m in \u001b[0;36mcommand\u001b[0;34m(self, dbname, spec, slave_ok, read_preference, codec_options, check, allowable_errors, check_keys, read_concern)\u001b[0m\n\u001b[1;32m    237\u001b[0m                            \u001b[0mcheck\u001b[0m\u001b[0;34m,\u001b[0m \u001b[0mallowable_errors\u001b[0m\u001b[0;34m,\u001b[0m \u001b[0mself\u001b[0m\u001b[0;34m.\u001b[0m\u001b[0maddress\u001b[0m\u001b[0;34m,\u001b[0m\u001b[0;34m\u001b[0m\u001b[0m\n\u001b[1;32m    238\u001b[0m                            \u001b[0mcheck_keys\u001b[0m\u001b[0;34m,\u001b[0m \u001b[0mself\u001b[0m\u001b[0;34m.\u001b[0m\u001b[0mlisteners\u001b[0m\u001b[0;34m,\u001b[0m \u001b[0mself\u001b[0m\u001b[0;34m.\u001b[0m\u001b[0mmax_bson_size\u001b[0m\u001b[0;34m,\u001b[0m\u001b[0;34m\u001b[0m\u001b[0m\n\u001b[0;32m--> 239\u001b[0;31m                            read_concern)\n\u001b[0m\u001b[1;32m    240\u001b[0m         \u001b[0;32mexcept\u001b[0m \u001b[0mOperationFailure\u001b[0m\u001b[0;34m:\u001b[0m\u001b[0;34m\u001b[0m\u001b[0m\n\u001b[1;32m    241\u001b[0m             \u001b[0;32mraise\u001b[0m\u001b[0;34m\u001b[0m\u001b[0m\n",
      "\u001b[0;32m/Users/kylemcgregor/anaconda/lib/python3.5/site-packages/pymongo/network.py\u001b[0m in \u001b[0;36mcommand\u001b[0;34m(sock, dbname, spec, slave_ok, is_mongos, read_preference, codec_options, check, allowable_errors, address, check_keys, listeners, max_bson_size, read_concern)\u001b[0m\n\u001b[1;32m    100\u001b[0m         \u001b[0mresponse_doc\u001b[0m \u001b[0;34m=\u001b[0m \u001b[0munpacked\u001b[0m\u001b[0;34m[\u001b[0m\u001b[0;34m'data'\u001b[0m\u001b[0;34m]\u001b[0m\u001b[0;34m[\u001b[0m\u001b[0;36m0\u001b[0m\u001b[0;34m]\u001b[0m\u001b[0;34m\u001b[0m\u001b[0m\n\u001b[1;32m    101\u001b[0m         \u001b[0;32mif\u001b[0m \u001b[0mcheck\u001b[0m\u001b[0;34m:\u001b[0m\u001b[0;34m\u001b[0m\u001b[0m\n\u001b[0;32m--> 102\u001b[0;31m             \u001b[0mhelpers\u001b[0m\u001b[0;34m.\u001b[0m\u001b[0m_check_command_response\u001b[0m\u001b[0;34m(\u001b[0m\u001b[0mresponse_doc\u001b[0m\u001b[0;34m,\u001b[0m \u001b[0;32mNone\u001b[0m\u001b[0;34m,\u001b[0m \u001b[0mallowable_errors\u001b[0m\u001b[0;34m)\u001b[0m\u001b[0;34m\u001b[0m\u001b[0m\n\u001b[0m\u001b[1;32m    103\u001b[0m     \u001b[0;32mexcept\u001b[0m \u001b[0mException\u001b[0m \u001b[0;32mas\u001b[0m \u001b[0mexc\u001b[0m\u001b[0;34m:\u001b[0m\u001b[0;34m\u001b[0m\u001b[0m\n\u001b[1;32m    104\u001b[0m         \u001b[0;32mif\u001b[0m \u001b[0mpublish\u001b[0m\u001b[0;34m:\u001b[0m\u001b[0;34m\u001b[0m\u001b[0m\n",
      "\u001b[0;32m/Users/kylemcgregor/anaconda/lib/python3.5/site-packages/pymongo/helpers.py\u001b[0m in \u001b[0;36m_check_command_response\u001b[0;34m(response, msg, allowable_errors)\u001b[0m\n\u001b[1;32m    203\u001b[0m \u001b[0;34m\u001b[0m\u001b[0m\n\u001b[1;32m    204\u001b[0m             \u001b[0mmsg\u001b[0m \u001b[0;34m=\u001b[0m \u001b[0mmsg\u001b[0m \u001b[0;32mor\u001b[0m \u001b[0;34m\"%s\"\u001b[0m\u001b[0;34m\u001b[0m\u001b[0m\n\u001b[0;32m--> 205\u001b[0;31m             \u001b[0;32mraise\u001b[0m \u001b[0mOperationFailure\u001b[0m\u001b[0;34m(\u001b[0m\u001b[0mmsg\u001b[0m \u001b[0;34m%\u001b[0m \u001b[0merrmsg\u001b[0m\u001b[0;34m,\u001b[0m \u001b[0mcode\u001b[0m\u001b[0;34m,\u001b[0m \u001b[0mresponse\u001b[0m\u001b[0;34m)\u001b[0m\u001b[0;34m\u001b[0m\u001b[0m\n\u001b[0m\u001b[1;32m    206\u001b[0m \u001b[0;34m\u001b[0m\u001b[0m\n\u001b[1;32m    207\u001b[0m \u001b[0;34m\u001b[0m\u001b[0m\n",
      "\u001b[0;31mOperationFailure\u001b[0m: unknown top level operator: $authors"
     ]
    }
   ],
   "source": [
    "list(modelcollection.aggregate([\n",
    "            {\n",
    "               '$match': \n",
    "                {\n",
    "                    '$celltypes': 'Hippocampus CA3 pyramidal cell',\n",
    "                    '$authors': 'Migliore M'\n",
    "                }\n",
    "                \n",
    "            }, \n",
    "        ]))"
   ]
  },
  {
   "cell_type": "markdown",
   "metadata": {},
   "source": [
    "Find all the authors who were on a paper associated with a model that involved a Hippocampus CA3 pyramidal cell. Sort them in alphabetical order; give this list and state its length."
   ]
  },
  {
   "cell_type": "code",
   "execution_count": null,
   "metadata": {
    "collapsed": true
   },
   "outputs": [],
   "source": []
  },
  {
   "cell_type": "markdown",
   "metadata": {},
   "source": [
    "<h1>Modify the database</h1>"
   ]
  },
  {
   "cell_type": "markdown",
   "metadata": {},
   "source": [
    "Rename the Hippocampus CA1 pyramidal cell to be the Hippocampus CA1 pyramidal neuron. (Note: here we're using CA1 instead of CA3.) Make sure that this is consistent across all documents in the models collection."
   ]
  },
  {
   "cell_type": "code",
   "execution_count": 144,
   "metadata": {
    "collapsed": false
   },
   "outputs": [
    {
     "data": {
      "text/plain": [
       "<pymongo.results.UpdateResult at 0x109637b88>"
      ]
     },
     "execution_count": 144,
     "metadata": {},
     "output_type": "execute_result"
    }
   ],
   "source": [
    "modelcollection.update_many({'celtypes': 'Hippocampus CA1 pyramidal cell'},\n",
    "                  {'$set': {'celltypes.$': 'Hippocampus CA1 pyramidal neuron'}}\n",
    ")"
   ]
  },
  {
   "cell_type": "markdown",
   "metadata": {},
   "source": [
    "Add a new entry (make up the data, but keep it appropriate) to the models collection. Associate it with two references, one that already exists and one that you also add to the papers collection."
   ]
  },
  {
   "cell_type": "code",
   "execution_count": 147,
   "metadata": {
    "collapsed": false
   },
   "outputs": [
    {
     "data": {
      "text/plain": [
       "<pymongo.results.InsertOneResult at 0x109637d38>"
      ]
     },
     "execution_count": 147,
     "metadata": {},
     "output_type": "execute_result"
    }
   ],
   "source": [
    "modelcollection.insert_one({\n",
    "        'name': 'Hippocampus CA1 pyramidal cell',\n",
    "        'channels': ['I Na,t', 'I Na,p', 'I Potassium', 'I A', 'I K', 'I M',\n",
    "                     'I L high threshold', 'I N', 'I T low threshold', 'I p,q',\n",
    "                     'I K,Ca', 'I h'],\n",
    "        'transmitters': ['NO', 'Glutamate'],\n",
    "        'average dendrite length': 4586,\n",
    "        'authors': ['Bartos M', 'Johnny McFake author III']\n",
    "              })"
   ]
  }
 ],
 "metadata": {
  "anaconda-cloud": {},
  "kernelspec": {
   "display_name": "Python [default]",
   "language": "python",
   "name": "python3"
  },
  "language_info": {
   "codemirror_mode": {
    "name": "ipython",
    "version": 3
   },
   "file_extension": ".py",
   "mimetype": "text/x-python",
   "name": "python",
   "nbconvert_exporter": "python",
   "pygments_lexer": "ipython3",
   "version": "3.5.2"
  }
 },
 "nbformat": 4,
 "nbformat_minor": 1
}
